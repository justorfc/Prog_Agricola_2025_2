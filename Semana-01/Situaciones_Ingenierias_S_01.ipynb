{
  "nbformat": 4,
  "nbformat_minor": 0,
  "metadata": {
    "colab": {
      "provenance": [],
      "authorship_tag": "ABX9TyOEnhVoOyO3j054y9/zm7iy",
      "include_colab_link": true
    },
    "kernelspec": {
      "name": "python3",
      "display_name": "Python 3"
    },
    "language_info": {
      "name": "python"
    }
  },
  "cells": [
    {
      "cell_type": "markdown",
      "metadata": {
        "id": "view-in-github",
        "colab_type": "text"
      },
      "source": [
        "<a href=\"https://colab.research.google.com/github/justorfc/Prog_Civil_2025_2/blob/main/Situaciones_Ingenierias_S_01.ipynb\" target=\"_parent\"><img src=\"https://colab.research.google.com/assets/colab-badge.svg\" alt=\"Open In Colab\"/></a>"
      ]
    },
    {
      "cell_type": "markdown",
      "source": [
        "# Situación de Interés en Ingeniería Agrícola\n",
        "\n",
        "Un agricultor necesita saber cuántos kilogramos de semilla de maíz debe comprar para sembrar un lote rectangular. Conoce la densidad de siembra recomendada (kg por hectárea) y las dimensiones del lote (largo y ancho en metros)."
      ],
      "metadata": {
        "id": "B1Qt-B-S_kaq"
      }
    },
    {
      "cell_type": "code",
      "execution_count": null,
      "metadata": {
        "id": "ZLSDyFzX_h1F"
      },
      "outputs": [],
      "source": [
        "# Cálculo de Semillas\n",
        "# 1. Saludar al usuario y explicar qué hace el programa.\n",
        "print(\"Bienvenido al programa de cálculo de semillas de maíz.\")\n",
        "\n",
        "# 2. Pedir al usuario que ingrese el largo del lote en metros (input sin convertir la variable).\n",
        "largo = input(\"Por favor, ingrese el largo del lote en metros: \")\n",
        "\n",
        "# 3. Pedir el ancho del lote en metros (input).\n",
        "ancho = input(\"Por favor, ingrese el ancho del lote en metros: \")\n",
        "\n",
        "# 4. Pedir la densidad recomendada de siembra en kilogramos por hectárea (input).\n",
        "densidad = input(\"Por favor, ingrese la densidad recomendada de siembra en kilogramos por hectárea: \")\n",
        "\n",
        "# 5. Convertir las entradas de texto a números decimales (float).\n",
        "largo = float(largo)\n",
        "ancho = float(ancho)\n",
        "densidad = float(densidad)\n",
        "\n",
        "# 6. Calcular el área en metros cuadrados (largo * ancho).\n",
        "area = largo * ancho\n",
        "\n",
        "# 7 Convertir el área a hectáreas (1 hectárea = 10,000 m²).\n",
        "area_hectareas = area / 10000\n",
        "\n",
        "# 8. Calcular el número de semillas necesarias (area en hectareas * densidad recomendada).\n",
        "semillas_necesarias = area_hectareas * densidad\n",
        "\n",
        "# 9 Mostrar el resultado final al usuario de forma clara (print).\n",
        "print(\"El número de semillas de maíz necesarias es:\", semillas_necesarias, \"kilogramos.\")\n",
        "\n",
        "# 10 Muestre el resultado final usando el formato f-string\n",
        "print(f\"El número de semillas de maíz necesarias es: {semillas_necesarias} kilogramos.\")"
      ]
    },
    {
      "cell_type": "markdown",
      "metadata": {
        "id": "929d6f24"
      },
      "source": [
        "## Explicación del Código para Calcular Semillas de Maíz\n",
        "\n",
        "Este programa Python ayuda a un agricultor a determinar cuántos kilogramos de semilla de maíz necesita para sembrar un lote rectangular, basándose en las dimensiones del lote y la densidad de siembra recomendada.\n",
        "\n",
        "**Pasos del Programa:**\n",
        "\n",
        "1.  **Saludar al usuario y explicar qué hace el programa:**\n",
        "    *   Imprime un mensaje de bienvenida para informar al usuario sobre la función del programa.\n",
        "\n",
        "2.  **Solicitar datos de entrada al usuario:**\n",
        "    *   Pide al usuario que ingrese el largo del lote en metros.\n",
        "    *   Pide al usuario que ingrese el ancho del lote en metros.\n",
        "    *   Pide al usuario que ingrese la densidad de siembra recomendada en kilogramos por hectárea.\n",
        "\n",
        "3.  **Convertir las entradas de texto a números decimales (float):**\n",
        "    *   Las entradas obtenidas con `input()` son inicialmente cadenas de texto. Para poder realizar cálculos matemáticos, estas cadenas se convierten a números de punto flotante (`float`) que permiten trabajar con valores decimales.\n",
        "\n",
        "4.  **Calcular el área en metros cuadrados:**\n",
        "    *   Multiplica el largo por el ancho ingresados por el usuario para obtener el área total del lote en metros cuadrados.\n",
        "\n",
        "5.  **Convertir el área a hectáreas:**\n",
        "    *   Divide el área en metros cuadrados por 10,000 (ya que 1 hectárea equivale a 10,000 metros cuadrados) para obtener el área del lote expresada en hectáreas.\n",
        "\n",
        "6.  **Calcular el número de semillas necesarias:**\n",
        "    *   Multiplica el área del lote en hectáreas por la densidad de siembra recomendada (en kg/hectárea) para obtener la cantidad total de semillas necesarias en kilogramos.\n",
        "\n",
        "7.  **Mostrar el resultado final:**\n",
        "    *   Imprime el resultado calculado al usuario de forma clara, indicando la cantidad de semillas de maíz necesarias en kilogramos. Se muestra el resultado utilizando dos formatos de impresión diferentes: una concatenación simple y un f-string (formato de cadena literal)."
      ]
    },
    {
      "cell_type": "markdown",
      "source": [
        "## Conceptuales\n",
        "\n",
        "¿Qué es una variable en Python y para qué sirve? Dame una analogía."
      ],
      "metadata": {
        "id": "KAVu5Ua-Nu70"
      }
    },
    {
      "cell_type": "markdown",
      "metadata": {
        "id": "5c80366e"
      },
      "source": [
        "## ¿Qué es una variable en Python?\n",
        "\n",
        "En Python, una **variable** es como una caja o un contenedor donde puedes almacenar información. Esta información puede ser de diferentes tipos, como números, texto o listas de elementos.\n",
        "\n",
        "**¿Para qué sirve una variable?**\n",
        "\n",
        "Las variables son fundamentales en programación porque te permiten:\n",
        "\n",
        "1.  **Almacenar datos:** Guardar valores que vas a necesitar usar más adelante en tu programa.\n",
        "2.  **Reutilizar valores:** En lugar de escribir el mismo valor una y otra vez, lo guardas en una variable y usas el nombre de la variable. Si el valor cambia, solo necesitas actualizarlo en un lugar.\n",
        "3.  **Hacer tu código más legible:** Usar nombres descriptivos para tus variables ayuda a entender qué representa cada dato en tu programa.\n",
        "4.  **Realizar operaciones:** Puedes usar variables en cálculos matemáticos, comparaciones lógicas y otras operaciones.\n",
        "\n",
        "**Analogía:**\n",
        "\n",
        "Imagina que tienes varias cajas con etiquetas. Cada caja representa una **variable**.\n",
        "\n",
        "*   La **etiqueta** de la caja es el **nombre** de la variable (por ejemplo, \"largo\", \"ancho\", \"densidad\").\n",
        "*   Lo que pones **dentro** de la caja es el **valor** que almacena la variable (por ejemplo, el número 10, el texto \"Hola\", etc.).\n",
        "\n",
        "Puedes abrir una caja (acceder a la variable), mirar lo que hay dentro (ver su valor), poner algo nuevo dentro (asignarle un nuevo valor), o usar lo que está dentro para hacer algo más (usar la variable en una operación)."
      ]
    },
    {
      "cell_type": "markdown",
      "source": [
        "## ¿Por qué la función input() siempre devuelve texto (string) y cómo puedo convertir ese texto en un número?"
      ],
      "metadata": {
        "id": "aLD3wVLBOMhz"
      }
    },
    {
      "cell_type": "markdown",
      "metadata": {
        "id": "5afb3786"
      },
      "source": [
        "## ¿Por qué `input()` devuelve texto y cómo convertirlo a número?\n",
        "\n",
        "La función `input()` en Python está diseñada para leer la entrada del usuario directamente desde el teclado. La entrada del teclado es, por naturaleza, una secuencia de caracteres, es decir, **texto (string)**. Python no intenta adivinar si lo que escribiste es un número, una palabra o una frase; simplemente lo captura como una cadena de texto.\n",
        "\n",
        "Esto es útil porque te permite capturar cualquier tipo de información que el usuario pueda ingresar, ya sean nombres, direcciones o números.\n",
        "\n",
        "**¿Cómo convertir texto a número?**\n",
        "\n",
        "Si sabes que el usuario va a ingresar un número y necesitas realizar operaciones matemáticas con él, debes convertir explícitamente la cadena de texto que te devuelve `input()` a un tipo numérico. Los tipos numéricos más comunes para conversiones son:\n",
        "\n",
        "*   **`int()`**: Para convertir a un número entero (sin decimales). Si la cadena contiene decimales o no es un número válido, generará un error.\n",
        "*   **`float()`**: Para convertir a un número de punto flotante (con decimales). Es más flexible y puede manejar tanto números enteros como números con decimales.\n",
        "\n",
        "**Ejemplo:**\n",
        "\n",
        "Si pides la edad al usuario con `edad_str = input(\"Ingresa tu edad: \")`, `edad_str` será un string (por ejemplo, \"25\"). Para usar esa edad en cálculos, debes convertirla: `edad_int = int(edad_str)`."
      ]
    },
    {
      "cell_type": "code",
      "metadata": {
        "id": "a322bfdf"
      },
      "source": [
        "# Ejemplo de cómo input() devuelve texto\n",
        "entrada_texto = input(\"Escribe algo: \")\n",
        "print(f\"El tipo de dato ingresado es: {type(entrada_texto)}\")\n",
        "\n",
        "# Ejemplo de conversión a número entero (int)\n",
        "num_str_entero = input(\"Ingresa un número entero: \")\n",
        "num_entero = int(num_str_entero)\n",
        "print(f\"Convertido a entero: {num_entero}, Tipo: {type(num_entero)}\")\n",
        "\n",
        "# Ejemplo de conversión a número decimal (float)\n",
        "num_str_decimal = input(\"Ingresa un número con decimales: \")\n",
        "num_decimal = float(num_str_decimal)\n",
        "print(f\"Convertido a decimal: {num_decimal}, Tipo: {type(num_decimal)}\")\n",
        "\n",
        "# Puedes combinar input y conversión en una sola línea\n",
        "altura = float(input(\"Ingresa tu altura en metros: \"))\n",
        "print(f\"Tu altura es: {altura} metros.\")"
      ],
      "execution_count": null,
      "outputs": []
    },
    {
      "cell_type": "markdown",
      "source": [
        "## Estructura del Código\n",
        "\n",
        "Escribe el esqueleto de un programa en Python que pida dos números, los multiplique y muestre el resultado."
      ],
      "metadata": {
        "id": "NjPUom7_OzFf"
      }
    },
    {
      "cell_type": "markdown",
      "metadata": {
        "id": "06a4fd68"
      },
      "source": [
        "## Esqueleto de un Programa Python para Multiplicar Dos Números\n",
        "\n",
        "Aquí te presento la estructura básica de un programa en Python que realiza la multiplicación de dos números ingresados por el usuario:\n",
        "\n",
        "1.  **Solicitar el primer número:** Se utiliza la función `input()` para pedir al usuario que ingrese el primer número. La entrada será recibida como texto (string).\n",
        "2.  **Solicitar el segundo número:** De manera similar, se usa `input()` para pedir el segundo número. Esta entrada también será texto.\n",
        "3.  **Convertir las entradas a números:** Dado que `input()` devuelve strings, es necesario convertir estas entradas a un tipo numérico (como `int` para enteros o `float` para números con decimales) utilizando las funciones correspondientes (`int()` o `float()`).\n",
        "4.  **Realizar la multiplicación:** Se multiplican los dos números convertidos.\n",
        "5.  **Mostrar el resultado:** Se imprime el resultado de la multiplicación al usuario, utilizando la función `print()`."
      ]
    },
    {
      "cell_type": "markdown",
      "source": [
        "## Formato de Salida\n",
        "\n",
        "En mi código de Python, ¿cómo puedo hacer que un número decimal se muestre con solo dos decimales al usar la función print()?"
      ],
      "metadata": {
        "id": "MJr7ifiKPLrC"
      }
    },
    {
      "cell_type": "markdown",
      "metadata": {
        "id": "644dcac9"
      },
      "source": [
        "## Formatear Números Decimales con `print()` en Python\n",
        "\n",
        "Para mostrar un número decimal con un número específico de decimales (por ejemplo, dos decimales) al usar la función `print()`, puedes utilizar el **formato de cadenas (f-strings)** o el **método `.format()`**.\n",
        "\n",
        "**Usando f-strings (Formato de Cadenas Literales):**\n",
        "\n",
        "Esta es una forma muy legible y recomendada en versiones recientes de Python (3.6+). Dentro del f-string, colocas la variable entre llaves `{}` y utilizas el especificador de formato `:.2f`.\n",
        "\n",
        "*   `:` indica que vas a especificar un formato.\n",
        "*   `.2` indica que quieres dos dígitos después del punto decimal.\n",
        "*   `f` indica que el número debe ser tratado como un número de punto flotante (decimal).\n",
        "\n",
        "**Ejemplo con f-string:**"
      ]
    },
    {
      "cell_type": "code",
      "metadata": {
        "colab": {
          "base_uri": "https://localhost:8080/"
        },
        "id": "71836e9c",
        "outputId": "e2e63e5f-a33a-4749-db25-3e5b32834c76"
      },
      "source": [
        "numero_decimal = 123.456789\n",
        "print(f\"El número formateado es: {numero_decimal:.2f}\")\n",
        "# Salida: El número formateado es: 123.46"
      ],
      "execution_count": 3,
      "outputs": [
        {
          "output_type": "stream",
          "name": "stdout",
          "text": [
            "El número formateado es: 123.46\n"
          ]
        }
      ]
    },
    {
      "cell_type": "markdown",
      "source": [
        "# Situación de Interés en Ingeniería Agroindustrial 🥭:\n",
        "\n",
        "En una planta de procesamiento de mango, se quiere calcular el rendimiento de un lote de fruta. Se necesita un programa simple que tome el peso inicial de los mangos antes de pelarlos y deshuesarlos, y el peso final de la pulpa obtenida, para expresar el rendimiento como un porcentaje.\n"
      ],
      "metadata": {
        "id": "9n1k9IOrP5ur"
      }
    },
    {
      "cell_type": "code",
      "source": [
        "# 1. Explicar el propósito de la calculadora.\n",
        "print(\"Bienvenido a la calculadora de rendimiento de mangos.\")\n",
        "\n",
        "# 2. Pedir el peso inicial del lote de mangos en kg (input).\n",
        "peso_inicial = input(\"Por favor, ingrese el peso inicial del lote de mangos en kg: \")\n",
        "\n",
        "# 3. Pedir el peso final de la pulpa en kg (input).\n",
        "peso_final = input(\"Por favor, ingrese el peso final de la pulpa en kg: \")\n",
        "\n",
        "# 4. Convertir ambos pesos a números decimales (float).\n",
        "peso_inicial = float(peso_inicial)\n",
        "peso_final = float(peso_final)\n",
        "\n",
        "# 5. Calcular el rendimiento como un porcentaje.\n",
        "rendimiento = (peso_final / peso_inicial) * 100\n",
        "\n",
        "# 6. Mostrar el resultado final al usuario.\n",
        "print(f\"El rendimiento del lote de mangos es: {rendimiento:.2f}%\")"
      ],
      "metadata": {
        "id": "5RhJ64LfQEUO"
      },
      "execution_count": null,
      "outputs": []
    },
    {
      "cell_type": "markdown",
      "metadata": {
        "id": "8c04ea85"
      },
      "source": [
        "## Explicación del Código para Calcular el Rendimiento de Mangos\n",
        "\n",
        "Este programa Python calcula el rendimiento de un lote de mangos en una planta de procesamiento. El rendimiento se define como el porcentaje del peso final de la pulpa obtenida con respecto al peso inicial de los mangos antes del procesamiento.\n",
        "\n",
        "**Pasos del Programa:**\n",
        "\n",
        "1.  **Explicar el propósito de la calculadora:**\n",
        "    *   Imprime un mensaje de bienvenida para informar al usuario sobre la función del programa, que es calcular el rendimiento de los mangos.\n",
        "\n",
        "2.  **Pedir el peso inicial del lote de mangos en kg:**\n",
        "    *   Utiliza la función `input()` para solicitar al usuario que ingrese el peso total del lote de mangos antes de ser procesados. La entrada se recibe como una cadena de texto.\n",
        "\n",
        "3.  **Pedir el peso final de la pulpa en kg:**\n",
        "    *   De manera similar, usa `input()` para pedir el peso de la pulpa obtenida después de pelar y deshuesar los mangos. Esta entrada también se recibe como una cadena de texto.\n",
        "\n",
        "4.  **Convertir ambos pesos a números decimales (float):**\n",
        "    *   Dado que `input()` devuelve cadenas de texto, es necesario convertir tanto el peso inicial como el peso final a números de punto flotante (`float`) para poder realizar cálculos matemáticos precisos, especialmente porque los pesos pueden tener decimales.\n",
        "\n",
        "5.  **Calcular el rendimiento como un porcentaje:**\n",
        "    *   Realiza el cálculo del rendimiento. Esto se hace dividiendo el `peso_final` por el `peso_inicial` y luego multiplicando el resultado por 100 para expresarlo como un porcentaje.\n",
        "\n",
        "6.  **Mostrar el resultado final al usuario:**\n",
        "    *   Imprime el resultado del rendimiento calculado al usuario. Se utiliza un f-string (`f\"...\"`) para formatear la salida, mostrando el valor del rendimiento con dos decimales (`:.2f`) seguido del símbolo de porcentaje (`%`). Esto asegura que el resultado sea claro y fácil de entender para el usuario."
      ]
    },
    {
      "cell_type": "markdown",
      "source": [
        "## Conceptuales\n",
        "\n",
        "¿Qué son los operadores aritméticos en Python? Dame una lista."
      ],
      "metadata": {
        "id": "7EkQbHsWRA9r"
      }
    },
    {
      "cell_type": "markdown",
      "metadata": {
        "id": "93ba2721"
      },
      "source": [
        "## Operadores Aritméticos en Python\n",
        "\n",
        "Los operadores aritméticos son símbolos que se utilizan para realizar operaciones matemáticas en Python. Te permiten combinar valores (números) y producir un nuevo valor como resultado de la operación.\n",
        "\n",
        "Aquí tienes una lista de los operadores aritméticos más comunes en Python:\n",
        "\n",
        "*   **`+` (Suma):** Realiza la adición de dos operandos.\n",
        "    *   Ejemplo: `5 + 3` resulta en `8`.\n",
        "*   **`-` (Resta):** Realiza la sustracción del segundo operando del primero.\n",
        "    *   Ejemplo: `10 - 4` resulta en `6`.\n",
        "*   **`*` (Multiplicación):** Realiza la multiplicación de dos operandos.\n",
        "    *   Ejemplo: `6 * 7` resulta en `42`.\n",
        "*   **`/` (División):** Realiza la división del primer operando por el segundo. El resultado siempre es un número de punto flotante (decimal).\n",
        "    *   Ejemplo: `15 / 3` resulta en `5.0`.\n",
        "    *   Ejemplo: `10 / 3` resulta en `3.333...`.\n",
        "*   **`%` (Módulo):** Devuelve el resto de la división entera entre el primer operando y el segundo.\n",
        "    *   Ejemplo: `10 % 3` resulta en `1` (porque 10 dividido por 3 es 3 con un resto de 1).\n",
        "*   **`**` (Exponenciación):** Eleva el primer operando a la potencia del segundo operando.\n",
        "    *   Ejemplo: `2 ** 3` resulta en `8` (2 elevado a la potencia de 3).\n",
        "*   **`//` (División Entera o Piso):** Realiza la división y devuelve la parte entera del resultado (ignora la parte decimal). El resultado se redondea hacia abajo (hacia el infinito negativo) para números negativos.\n",
        "    *   Ejemplo: `10 // 3` resulta en `3`.\n",
        "    *   Ejemplo: `-10 // 3` resulta en `-4`."
      ]
    },
    {
      "cell_type": "markdown",
      "source": [
        "## ¿Por qué es importante verificar que no estoy dividiendo por cero en un programa?\n",
        "\n"
      ],
      "metadata": {
        "id": "ogOInL2ZRPL2"
      }
    },
    {
      "cell_type": "markdown",
      "metadata": {
        "id": "92d1e9cf"
      },
      "source": [
        "## ¿Por qué es importante verificar que no estás dividiendo por cero en un programa?\n",
        "\n",
        "Verificar que no estás dividiendo por cero es **fundamental** en programación porque la división por cero es una **operación matemática indefinida**. En el mundo de las matemáticas, simplemente no se puede dividir nada entre cero.\n",
        "\n",
        "Cuando intentas realizar una división por cero en un programa de computadora, ocurre un **error en tiempo de ejecución** que generalmente detiene la ejecución del programa de forma abrupta y no controlada. Esto se conoce como una **excepción** (en Python, una `ZeroDivisionError`).\n",
        "\n",
        "Aquí te detallo las razones principales por las que es importante evitarla:\n",
        "\n",
        "1.  **Errores y fallos del programa:** Es la razón más inmediata. Una división por cero hará que tu programa falle, lo que puede ser muy problemático, especialmente en aplicaciones críticas o sistemas en producción.\n",
        "2.  **Resultados inesperados:** Incluso si el programa no falla inmediatamente (lo cual es raro en la mayoría de los lenguajes para división por cero), el resultado de la operación sería incorrecto o un valor especial que podría propagarse a través de tus cálculos y llevar a resultados absurdos o sin sentido más adelante en el programa.\n",
        "3.  **Vulnerabilidades de seguridad:** En ciertos contextos, permitir una división por cero no controlada podría ser explotado como una vulnerabilidad de seguridad.\n",
        "4.  **Experiencia del usuario:** Un programa que falla sin un manejo adecuado de errores ofrece una mala experiencia al usuario. Es mucho mejor anticipar este tipo de problemas y mostrar un mensaje de error amigable o manejar la situación de alguna otra manera.\n",
        "\n",
        "**En resumen:** Dividir por cero es un evento matemático imposible que se traduce en un error crítico en programación. Siempre que realices una división, debes considerar la posibilidad de que el divisor sea cero y añadir código para manejar esa situación (por ejemplo, mostrar un mensaje al usuario, usar un valor predeterminado, o saltarse la operación si no es posible)."
      ]
    },
    {
      "cell_type": "markdown",
      "source": [
        "## Estructura del Código\n",
        "\n",
        "Quiero crear un programa que calcule un porcentaje. Necesito pedir un valor total y un valor parcial. ¿Cómo estructuro el código en Python?"
      ],
      "metadata": {
        "id": "77R70dJBRY-X"
      }
    },
    {
      "cell_type": "markdown",
      "metadata": {
        "id": "72cb84a4"
      },
      "source": [
        "## Estructura del Código para Calcular un Porcentaje\n",
        "\n",
        "Para crear un programa en Python que calcule un porcentaje a partir de un valor total y un valor parcial, puedes seguir esta estructura básica:\n",
        "\n",
        "1.  **Saludar al usuario y explicar el propósito del programa:**\n",
        "    *   Inicia con un mensaje de bienvenida que indique qué hace el programa.\n",
        "\n",
        "2.  **Pedir el valor total al usuario:**\n",
        "    *   Utiliza la función `input()` para solicitar al usuario que ingrese el valor total. Recuerda que `input()` devuelve texto.\n",
        "\n",
        "3.  **Pedir el valor parcial al usuario:**\n",
        "    *   De manera similar, usa `input()` para pedir el valor parcial. Esta entrada también será texto.\n",
        "\n",
        "4.  **Convertir las entradas a números:**\n",
        "    *   Convierte tanto el valor total como el valor parcial de texto (string) a un tipo numérico adecuado, como `float`, para poder realizar cálculos.\n",
        "\n",
        "5.  **Validar si el valor total es cero:**\n",
        "    *   Es crucial incluir una verificación para asegurarse de que el valor total no sea cero, ya que la división por cero generaría un error. Si el total es cero, muestra un mensaje de error apropiado.\n",
        "\n",
        "6.  **Calcular el porcentaje:**\n",
        "    *   Si el valor total no es cero, calcula el porcentaje utilizando la fórmula: `(valor_parcial / valor_total) * 100`.\n",
        "\n",
        "7.  **Mostrar el resultado final:**\n",
        "    *   Imprime el porcentaje calculado al usuario. Puedes usar formato f-string (`f\"...\"`) para mostrar el resultado con un número específico de decimales (por ejemplo, `:.2f%`)."
      ]
    },
    {
      "cell_type": "markdown",
      "source": [
        "# Situación de Interés en Ingeniería Civil 🧱:\n",
        "\n",
        "Un ingeniero residente de obra necesita calcular rápidamente el volumen de concreto necesario para vaciar una losa de piso rectangular simple. Debe poder ingresar el largo, el ancho y el espesor de la losa para obtener el volumen en metros cúbicos."
      ],
      "metadata": {
        "id": "mxw-QYnwRopM"
      }
    },
    {
      "cell_type": "code",
      "source": [
        "#  Cálculo de Volumen de Concreto\n",
        "# 1. Presentar la herramienta al usuario.\n",
        "print(\"Bienvenido a la herramienta de cálculo de volumen de concreto.\")\n",
        "\n",
        "# 2. Solicitar el largo, ancho y espesor de la losa, todos en metros (input).\n",
        "largo = input(\"Por favor, ingrese el largo de la losa en metros: \")\n",
        "ancho = input(\"Por favor, ingrese el ancho de la losa en metros: \")\n",
        "espesor = input(\"Por favor, ingrese el espesor de la losa en metros: \")\n",
        "\n",
        "# 3. Convertir todas las entradas a números decimales (float).\n",
        "largo = float(largo)\n",
        "ancho = float(ancho)\n",
        "espesor = float(espesor)\n",
        "\n",
        "# 4. Calcular el volumen en metros cúbicos (largo * ancho * espesor).\n",
        "volumen = largo * ancho * espesor\n",
        "\n",
        "# 5. Presentar el volumen calculado en metros cúbicos, con formato de 2 decimales\n",
        "print(f\"El volumen es {volumen:.2f} metros cúbicos\")"
      ],
      "metadata": {
        "id": "GEbAdQ1OR-fr"
      },
      "execution_count": null,
      "outputs": []
    }
  ]
}
